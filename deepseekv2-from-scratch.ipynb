{
 "cells": [
  {
   "cell_type": "markdown",
   "metadata": {},
   "source": [
    "# Deepseekv2 implemented from scratch\n",
    "\n",
    "从头开始实现Deepseekv2，主要深入理解MOE的推理策略及MLA的实现方法。支持huggingface格式以safetensors为后缀的权重。\n",
    "\n",
    "\n",
    "这里以Deepseek-v2-lite为例。"
   ]
  },
  {
   "cell_type": "markdown",
   "metadata": {},
   "source": [
    "## tokenizer"
   ]
  },
  {
   "cell_type": "code",
   "execution_count": 530,
   "metadata": {},
   "outputs": [
    {
     "data": {
      "text/plain": [
       "'hello world!'"
      ]
     },
     "execution_count": 530,
     "metadata": {},
     "output_type": "execute_result"
    }
   ],
   "source": [
    "from tokenizers import Tokenizer as TokenizerFast\n",
    "import os\n",
    "\n",
    "model_path = \"../deepseek-ai/DeepSeek-V2-Lite/\"\n",
    "\n",
    "tokenizer = TokenizerFast.from_file(os.path.join(model_path, 'tokenizer.json'))\n",
    "tokenizer.decode(tokenizer.encode(\"hello world!\").ids)"
   ]
  },
  {
   "cell_type": "markdown",
   "metadata": {},
   "source": [
    "## reading the model file\n",
    "normally, reading this depends on how the model classes are written and the variable names inside them.\n",
    "<br>\n",
    "but since we are implementing deepseek-v2-lite from scratch we will read the file one tensor at a time."
   ]
  },
  {
   "cell_type": "code",
   "execution_count": 531,
   "metadata": {},
   "outputs": [
    {
     "name": "stdout",
     "output_type": "stream",
     "text": [
      "lm_head.weight torch.Size([102400, 2048])\n",
      "model.embed_tokens.weight torch.Size([102400, 2048])\n",
      "model.layers.0.input_layernorm.weight torch.Size([2048])\n",
      "model.layers.0.mlp.down_proj.weight torch.Size([2048, 10944])\n",
      "model.layers.0.mlp.gate_proj.weight torch.Size([10944, 2048])\n",
      "model.layers.0.mlp.up_proj.weight torch.Size([10944, 2048])\n",
      "model.layers.0.post_attention_layernorm.weight torch.Size([2048])\n",
      "model.layers.0.self_attn.kv_a_layernorm.weight torch.Size([512])\n",
      "model.layers.0.self_attn.kv_a_proj_with_mqa.weight torch.Size([576, 2048])\n",
      "model.layers.0.self_attn.kv_b_proj.weight torch.Size([4096, 512])\n",
      "model.layers.0.self_attn.o_proj.weight torch.Size([2048, 2048])\n",
      "model.layers.0.self_attn.q_proj.weight torch.Size([3072, 2048])\n",
      "model.layers.1.input_layernorm.weight torch.Size([2048])\n",
      "model.layers.1.mlp.experts.0.down_proj.weight torch.Size([2048, 1408])\n",
      "model.layers.1.mlp.experts.0.gate_proj.weight torch.Size([1408, 2048])\n",
      "model.layers.1.mlp.experts.0.up_proj.weight torch.Size([1408, 2048])\n",
      "model.layers.1.mlp.experts.1.down_proj.weight torch.Size([2048, 1408])\n",
      "model.layers.1.mlp.experts.1.gate_proj.weight torch.Size([1408, 2048])\n"
     ]
    }
   ],
   "source": [
    "import torch\n",
    "from safetensors import safe_open\n",
    "model = {}\n",
    "for i in range(1,5):  # 遍历加载权重文件，不同大小的模型需要针对性修改\n",
    "    with safe_open(os.path.join(model_path, f\"model-0000{i}-of-000004.safetensors\"), framework=\"pt\", device=\"cpu\") as f:\n",
    "        count = 1\n",
    "        for k in f.keys():\n",
    "            model[k] = f.get_tensor(k)\n",
    "            count += 1\n",
    "            if count < 20 and i == 1:   # 仅显示部分权重及其shape，作为示例\n",
    "                print(k, model[k].shape)"
   ]
  },
  {
   "cell_type": "code",
   "execution_count": 532,
   "metadata": {},
   "outputs": [
    {
     "data": {
      "text/plain": [
       "{'aux_loss_alpha': 0.001,\n",
       " 'bos_token_id': 100000,\n",
       " 'eos_token_id': 100001,\n",
       " 'first_k_dense_replace': 1,\n",
       " 'hidden_act': 'silu',\n",
       " 'hidden_size': 2048,\n",
       " 'initializer_range': 0.02,\n",
       " 'intermediate_size': 10944,\n",
       " 'kv_lora_rank': 512,\n",
       " 'max_position_embeddings': 163840,\n",
       " 'model_type': 'deepseek_v2',\n",
       " 'moe_intermediate_size': 1408,\n",
       " 'moe_layer_freq': 1,\n",
       " 'n_group': 1,\n",
       " 'n_routed_experts': 64,\n",
       " 'n_shared_experts': 2,\n",
       " 'norm_topk_prob': False,\n",
       " 'num_attention_heads': 16,\n",
       " 'num_experts_per_tok': 6,\n",
       " 'num_hidden_layers': 27,\n",
       " 'num_key_value_heads': 16,\n",
       " 'pretraining_tp': 1,\n",
       " 'q_lora_rank': None,\n",
       " 'qk_nope_head_dim': 128,\n",
       " 'qk_rope_head_dim': 64,\n",
       " 'rms_norm_eps': 1e-06,\n",
       " 'rope_scaling': {'beta_fast': 32,\n",
       "  'beta_slow': 1,\n",
       "  'factor': 40,\n",
       "  'mscale': 0.707,\n",
       "  'mscale_all_dim': 0.707,\n",
       "  'original_max_position_embeddings': 4096,\n",
       "  'type': 'yarn'},\n",
       " 'rope_theta': 10000,\n",
       " 'routed_scaling_factor': 1.0,\n",
       " 'scoring_func': 'softmax',\n",
       " 'seq_aux': True,\n",
       " 'tie_word_embeddings': False,\n",
       " 'topk_group': 1,\n",
       " 'topk_method': 'greedy',\n",
       " 'torch_dtype': 'bfloat16',\n",
       " 'transformers_version': '4.33.1',\n",
       " 'use_cache': True,\n",
       " 'v_head_dim': 128,\n",
       " 'vocab_size': 102400}"
      ]
     },
     "execution_count": 532,
     "metadata": {},
     "output_type": "execute_result"
    }
   ],
   "source": [
    "import json\n",
    "with open(os.path.join(model_path, 'config.json'), \"r\") as f:\n",
    "    config = json.load(f)\n",
    "dict(zip(list(config.keys())[4:], list(config.values())[4:]))"
   ]
  },
  {
   "cell_type": "markdown",
   "metadata": {},
   "source": [
    "## we use this config to infer details about the model like\n",
    "1. the model has 27 transformer layers\n",
    "2. each multi-head attention block has 16 heads\n",
    "3. the vocab size and so on"
   ]
  },
  {
   "cell_type": "code",
   "execution_count": 533,
   "metadata": {},
   "outputs": [],
   "source": [
    "dim = config[\"hidden_size\"]\n",
    "kv_lora_rank = config['kv_lora_rank']                # kv压缩后的维度\n",
    "n_routed_experts = config['n_routed_experts']        # 专家数量\n",
    "n_shared_experts = config['n_shared_experts']        # 共享专家数量\n",
    "n_layers = config[\"num_hidden_layers\"]               # 层数\n",
    "n_heads = config[\"num_attention_heads\"]              # 注意力头数\n",
    "n_experts_per_tok = config['num_experts_per_tok']    # 每个token区topk个专家\n",
    "n_kv_heads = config[\"num_key_value_heads\"]           # kv head数量\n",
    "n_qk_nope_head_dim = config['qk_nope_head_dim']      # 不添加位置编码的维度\n",
    "n_qk_rope_head_dim = config['qk_rope_head_dim']      # 添加位置编码的维度\n",
    "n_v_channels = config[\"v_head_dim\"]                  # value的维度\n",
    "vocab_size = config[\"vocab_size\"]                    # 词表大小\n",
    "norm_eps = config[\"rms_norm_eps\"]\n",
    "rope_theta = 10000.0 "
   ]
  },
  {
   "cell_type": "markdown",
   "metadata": {},
   "source": [
    "## converting text to tokens"
   ]
  },
  {
   "cell_type": "code",
   "execution_count": 534,
   "metadata": {},
   "outputs": [
    {
     "name": "stdout",
     "output_type": "stream",
     "text": [
      "[1847, 304, 463, 2826, 3572, 11, 359, 317, 457, 8898, 331, 254, 17459, 280]\n",
      "['If', ' I', ' have', ' seen', ' further', ',', ' it', ' is', ' by', ' standing', ' on', ' the', ' shoulders', ' of']\n"
     ]
    }
   ],
   "source": [
    "# prompt = \"the answer to the ultimate question of life, the universe, and everything is \"\n",
    "# prompt = \"Genius is one percent inspiration and\"   #  “ninety-nine percent perspiration.”\n",
    "prompt = \"If I have seen further, it is by standing on the shoulders of\"   #  \" giants.\"\n",
    "tokens = tokenizer.encode(prompt).ids\n",
    "print(tokens)\n",
    "tokens = torch.tensor(tokens)\n",
    "prompt_split_as_tokens = [tokenizer.decode([token.item()]) for token in tokens]\n",
    "print(prompt_split_as_tokens)"
   ]
  },
  {
   "cell_type": "markdown",
   "metadata": {},
   "source": [
    "## converting tokens to their embedding\n",
    "this is the only part of the codebase where i use an inbuilt neural network module\n",
    "<br>\n",
    "anyway, so our [14x1] tokens are now [2048], i.e. 14 embeddings (one for each token) of length 2048\n",
    "<br>\n",
    "<br>\n",
    "note: keep track of the shapes, it makes it much easier to understand everything"
   ]
  },
  {
   "cell_type": "code",
   "execution_count": 535,
   "metadata": {},
   "outputs": [
    {
     "data": {
      "text/plain": [
       "torch.Size([14, 2048])"
      ]
     },
     "execution_count": 535,
     "metadata": {},
     "output_type": "execute_result"
    }
   ],
   "source": [
    "embedding_layer = torch.nn.Embedding(vocab_size, dim)\n",
    "embedding_layer.weight.data.copy_(model[\"model.embed_tokens.weight\"])\n",
    "token_embeddings_unnormalized = embedding_layer(tokens).to(torch.bfloat16)\n",
    "token_embeddings_unnormalized.shape"
   ]
  },
  {
   "cell_type": "markdown",
   "metadata": {},
   "source": [
    "## we then normalize the embedding using rms normalization\n",
    "please, note after this step the shapes dont change, the values are just normalized\n",
    "<br>\n",
    "things to keep in mind, we need a norm_eps (from config) because we dont want to accidently set rms to 0 and divide by 0\n",
    "<br>\n",
    "here is the formula:"
   ]
  },
  {
   "cell_type": "code",
   "execution_count": 536,
   "metadata": {},
   "outputs": [],
   "source": [
    "# def rms_norm(tensor, norm_weights):\n",
    "#     rms = (tensor.pow(2).mean(-1, keepdim=True) + norm_eps)**0.5\n",
    "#     return tensor * (norm_weights / rms)\n",
    "def rms_norm(tensor, norm_weights):\n",
    "    input_type = tensor.dtype\n",
    "    tensor = tensor.to(torch.float32)\n",
    "    tensor = tensor * torch.rsqrt(tensor.pow(2).mean(-1, keepdim=True) + norm_eps)\n",
    "    return tensor.to(input_type) * norm_weights"
   ]
  },
  {
   "cell_type": "markdown",
   "metadata": {},
   "source": [
    "# building the first layer of the transformer\n",
    "\n",
    "### normalization\n",
    "you will see me accessing layer.0 from the model dict (this is the first layer)\n",
    "<br>\n",
    "anyway, so after normalizing our shapes are still [14x2048] same as embedding but normalized "
   ]
  },
  {
   "cell_type": "code",
   "execution_count": 537,
   "metadata": {},
   "outputs": [
    {
     "data": {
      "text/plain": [
       "torch.Size([14, 2048])"
      ]
     },
     "execution_count": 537,
     "metadata": {},
     "output_type": "execute_result"
    }
   ],
   "source": [
    "token_embeddings = rms_norm(token_embeddings_unnormalized, model[\"model.layers.0.input_layernorm.weight\"])\n",
    "token_embeddings.shape"
   ]
  },
  {
   "cell_type": "markdown",
   "metadata": {},
   "source": [
    "### attention implemented from scratch\n",
    "let's load the attention heads of the first layer of the transformer\n",
    "\n",
    "&gt; 从模型中加载q、k、v和输出投影层的权重\n",
    "<br>\n",
    "&gt; q_proj是q的权重，kv_a是kv的压缩权重，kv_b是kv投影回原始维度的映射权重\n",
    "<br>\n",
    "&gt; 具体可以参考Deepseek V2的论文，MLA是一个重要的创新点，主要目的是节省kvcache的大小。类似于LoRA，先通过kv_a将输入维度压缩，然后再解压缩回原始维度。在kvcache时只需要保存压缩后的部分即可；\n",
    "<br>\n",
    "&gt; 对于lite模型，就是先通过kv_a将维度从2048压缩至576，然后拆分为512(kv_lora_rank)和64(n_qk_rope_head_dim)，512的部分不添加旋转位置编码，通过kv_b映射回2048，而64则添加位置编码。\n",
    "<br>\n",
    "&gt; 这里kv_b是4096，是因为包含了k和v，所以是2048*2."
   ]
  },
  {
   "cell_type": "code",
   "execution_count": 538,
   "metadata": {},
   "outputs": [
    {
     "name": "stdout",
     "output_type": "stream",
     "text": [
      "torch.Size([3072, 2048]) torch.Size([576, 2048]) torch.Size([512]) torch.Size([4096, 512]) torch.Size([2048, 2048])\n"
     ]
    }
   ],
   "source": [
    "print(\n",
    "    model[\"model.layers.0.self_attn.q_proj.weight\"].shape,\n",
    "    model[\"model.layers.0.self_attn.kv_a_proj_with_mqa.weight\"].shape,\n",
    "    model[\"model.layers.0.self_attn.kv_a_layernorm.weight\"].shape,\n",
    "    model[\"model.layers.0.self_attn.kv_b_proj.weight\"].shape,\n",
    "    model[\"model.layers.0.self_attn.o_proj.weight\"].shape,\n",
    ")"
   ]
  },
  {
   "cell_type": "markdown",
   "metadata": {},
   "source": [
    "### unwrapping query\n",
    "in the next section we will unwrap the queries from multiple attention heads, the resulting shape is [16x192x2048]\n",
    "<br><br>\n",
    "here, 16 is the number of attention heads in deepseek-v2-lite, 192 is the size of the query vector and 2048 is the size of the token embedding"
   ]
  },
  {
   "cell_type": "code",
   "execution_count": 539,
   "metadata": {},
   "outputs": [
    {
     "name": "stdout",
     "output_type": "stream",
     "text": [
      "torch.Size([16, 192, 2048])\n"
     ]
    }
   ],
   "source": [
    "q_layer0 = model[\"model.layers.0.self_attn.q_proj.weight\"]\n",
    "q_layer0 = q_layer0.reshape(n_heads, n_qk_nope_head_dim+n_qk_rope_head_dim, -1)\n",
    "print(q_layer0.shape)"
   ]
  },
  {
   "cell_type": "markdown",
   "metadata": {},
   "source": [
    "### im going to implement the first head of the first layer\n",
    "here i access the query weight matrix first head of the first layer, the size of this query weight matrix is [192x2048]"
   ]
  },
  {
   "cell_type": "code",
   "execution_count": 540,
   "metadata": {},
   "outputs": [
    {
     "data": {
      "text/plain": [
       "torch.Size([192, 2048])"
      ]
     },
     "execution_count": 540,
     "metadata": {},
     "output_type": "execute_result"
    }
   ],
   "source": [
    "q_layer0_head0 = q_layer0[0]\n",
    "q_layer0_head0.shape"
   ]
  },
  {
   "cell_type": "markdown",
   "metadata": {},
   "source": [
    "这里将q的维度192拆分为128和64，其中128对应不参与位置编码部分，64对应参与位置编码部分"
   ]
  },
  {
   "cell_type": "code",
   "execution_count": 541,
   "metadata": {},
   "outputs": [
    {
     "data": {
      "text/plain": [
       "(torch.Size([128, 2048]), torch.Size([64, 2048]))"
      ]
     },
     "execution_count": 541,
     "metadata": {},
     "output_type": "execute_result"
    }
   ],
   "source": [
    "q_layer0_head0_nope, q_layer0_head0_pe = torch.split(q_layer0_head0, [n_qk_nope_head_dim, n_qk_rope_head_dim], dim=0)\n",
    "q_layer0_head0_nope.shape, q_layer0_head0_pe.shape"
   ]
  },
  {
   "cell_type": "markdown",
   "metadata": {},
   "source": [
    "### we now multiply the query weights with the token embedding, to recive a query for the token\n",
    "here you can see the resulting shape is [14x128], this is because we have 14 tokens and for each token there is a 128 or 64 length query."
   ]
  },
  {
   "cell_type": "code",
   "execution_count": 542,
   "metadata": {},
   "outputs": [
    {
     "data": {
      "text/plain": [
       "(torch.Size([14, 128]), torch.Size([14, 64]))"
      ]
     },
     "execution_count": 542,
     "metadata": {},
     "output_type": "execute_result"
    }
   ],
   "source": [
    "q_per_token_nope = torch.matmul(token_embeddings, q_layer0_head0_nope.T)\n",
    "q_per_token_pe = torch.matmul(token_embeddings, q_layer0_head0_pe.T)\n",
    "q_per_token_nope.shape, q_per_token_pe.shape"
   ]
  },
  {
   "cell_type": "markdown",
   "metadata": {},
   "source": [
    "# keys and values\n",
    "k和v的权重是在一起的，映射完再拆分为k和v。\n",
    "<br><br>\n",
    "这里先将不参与位置编码和参与位置编码的映射权重拆分开，分别进行计算。"
   ]
  },
  {
   "cell_type": "code",
   "execution_count": 543,
   "metadata": {},
   "outputs": [
    {
     "data": {
      "text/plain": [
       "(torch.Size([512, 2048]), torch.Size([64, 2048]))"
      ]
     },
     "execution_count": 543,
     "metadata": {},
     "output_type": "execute_result"
    }
   ],
   "source": [
    "kv_layer0 = model[\"model.layers.0.self_attn.kv_a_proj_with_mqa.weight\"]\n",
    "kv_layer0_compressed, kv_layer0_rope =  torch.split(kv_layer0, [kv_lora_rank, n_qk_rope_head_dim], dim=0)\n",
    "kv_layer0_compressed.shape, kv_layer0_rope.shape"
   ]
  },
  {
   "cell_type": "markdown",
   "metadata": {},
   "source": [
    "这一部分不参与位置编码，是MLA中的压缩部分。将2048压缩到512."
   ]
  },
  {
   "cell_type": "code",
   "execution_count": 544,
   "metadata": {},
   "outputs": [
    {
     "data": {
      "text/plain": [
       "torch.Size([14, 512])"
      ]
     },
     "execution_count": 544,
     "metadata": {},
     "output_type": "execute_result"
    }
   ],
   "source": [
    "kv_per_token_compressed = torch.matmul(token_embeddings, kv_layer0_compressed.T)\n",
    "kv_per_token_compressed.shape"
   ]
  },
  {
   "cell_type": "markdown",
   "metadata": {},
   "source": [
    "然后再映射回2048，这里是4096，因为里面包含着k和v，下面会拆开。"
   ]
  },
  {
   "cell_type": "code",
   "execution_count": 545,
   "metadata": {},
   "outputs": [
    {
     "data": {
      "text/plain": [
       "torch.Size([14, 4096])"
      ]
     },
     "execution_count": 545,
     "metadata": {},
     "output_type": "execute_result"
    }
   ],
   "source": [
    "kv_layer0_norm = model[\"model.layers.0.self_attn.kv_a_layernorm.weight\"]\n",
    "kv_layer0_b = model[\"model.layers.0.self_attn.kv_b_proj.weight\"]\n",
    "kv_per_token_b = torch.matmul(rms_norm(kv_per_token_compressed, kv_layer0_norm), kv_layer0_b.T)\n",
    "kv_per_token_b.shape"
   ]
  },
  {
   "cell_type": "markdown",
   "metadata": {},
   "source": [
    "按照heads数量调整维度，16是num_heads，14是tokens长度，256是k和v的维度，128*2."
   ]
  },
  {
   "cell_type": "code",
   "execution_count": 546,
   "metadata": {},
   "outputs": [
    {
     "data": {
      "text/plain": [
       "torch.Size([16, 14, 256])"
      ]
     },
     "execution_count": 546,
     "metadata": {},
     "output_type": "execute_result"
    }
   ],
   "source": [
    "kv_per_token_compressed = kv_per_token_b.reshape(len(tokens), n_heads, n_qk_nope_head_dim+n_v_channels).transpose(0,1)\n",
    "kv_per_token_compressed.shape"
   ]
  },
  {
   "cell_type": "markdown",
   "metadata": {},
   "source": [
    "沿着最后一维(256)拆开，变成两个128，分别是k和v的维度。"
   ]
  },
  {
   "cell_type": "code",
   "execution_count": 547,
   "metadata": {},
   "outputs": [
    {
     "data": {
      "text/plain": [
       "(torch.Size([16, 14, 128]), torch.Size([16, 14, 128]))"
      ]
     },
     "execution_count": 547,
     "metadata": {},
     "output_type": "execute_result"
    }
   ],
   "source": [
    "k_per_token_nope, v_states = torch.split(kv_per_token_compressed, [n_qk_nope_head_dim, n_v_channels], dim=-1)\n",
    "k_per_token_nope.shape, v_states.shape"
   ]
  },
  {
   "cell_type": "markdown",
   "metadata": {},
   "source": [
    "这一部分是参与计算旋转位置编码的部分。注意，上面不参与位置编码的部分是变换成16个head了，但是这里参与位置编码的部分，并没有进行变换，所以这一部分是所有head共享的。"
   ]
  },
  {
   "cell_type": "code",
   "execution_count": 548,
   "metadata": {},
   "outputs": [
    {
     "data": {
      "text/plain": [
       "torch.Size([14, 64])"
      ]
     },
     "execution_count": 548,
     "metadata": {},
     "output_type": "execute_result"
    }
   ],
   "source": [
    "kv_per_token_rope = torch.matmul(token_embeddings, kv_layer0_rope.T)\n",
    "kv_per_token_rope.shape"
   ]
  },
  {
   "cell_type": "markdown",
   "metadata": {},
   "source": [
    "## positioning encoding\n",
    "we are now at a stage where we have a query vector for each token in our prompt, but if you think about it -- the indivitually query vector has no idea about the position in the prompt.\n",
    "<br>\n",
    "### RoPE\n",
    "Deepseek V2的位置编码比原版RoPE相对要复杂一些。"
   ]
  },
  {
   "cell_type": "code",
   "execution_count": 549,
   "metadata": {},
   "outputs": [],
   "source": [
    "import math\n",
    "# Inverse dim formula to find dim based on number of rotations\n",
    "def yarn_find_correction_dim(num_rotations, dim, base=10000, max_position_embeddings=2048):\n",
    "    return (dim * math.log(max_position_embeddings / (num_rotations * 2 * math.pi))) / (2 * math.log(base))\n",
    "\n",
    "# Find dim range bounds based on rotations\n",
    "def yarn_find_correction_range(low_rot, high_rot, dim, base=10000, max_position_embeddings=2048):\n",
    "    low = math.floor(yarn_find_correction_dim(low_rot, dim, base, max_position_embeddings))\n",
    "    high = math.ceil(yarn_find_correction_dim(high_rot, dim, base, max_position_embeddings))\n",
    "    return max(low, 0), min(high, dim - 1)  # Clamp values just in case\n",
    "\n",
    "def yarn_get_mscale(scale=1, mscale=1):\n",
    "    if scale <= 1:\n",
    "        return 1.0\n",
    "    return 0.1 * mscale * math.log(scale) + 1.0\n",
    "\n",
    "def yarn_linear_ramp_mask(min, max, dim):\n",
    "    if min == max:\n",
    "        max += 0.001  # Prevent singularity\n",
    "    linear_func = (torch.arange(dim, dtype=torch.float32) - min) / (max - min)\n",
    "    ramp_func = torch.clamp(linear_func, 0, 1)\n",
    "    return ramp_func\n",
    "\n",
    "# Copied from transformers.models.llama.modeling_llama.rotate_half\n",
    "def rotate_half(x):\n",
    "    \"\"\"Rotates half the hidden dims of the input.\"\"\"\n",
    "    x1 = x[..., : x.shape[-1] // 2]\n",
    "    x2 = x[..., x.shape[-1] // 2 :]\n",
    "    return torch.cat((-x2, x1), dim=-1)"
   ]
  },
  {
   "cell_type": "markdown",
   "metadata": {},
   "source": [
    "预设了最大长度为100，先提前计算出cos_cached和sin_cached，后续可以根据序列长度取出对应的值，直接应用于q和k。"
   ]
  },
  {
   "cell_type": "code",
   "execution_count": 550,
   "metadata": {},
   "outputs": [],
   "source": [
    "max_len = 100\n",
    "dim = n_qk_rope_head_dim\n",
    "freq_extra = 1.0 / (rope_theta ** (torch.arange(0, dim, 2, dtype=torch.float32, device='cpu') / dim))\n",
    "freq_inter = 1.0 / (config['rope_scaling']['factor']  * rope_theta ** (torch.arange(0, dim, 2, dtype=torch.float32, device='cpu') / dim))\n",
    "\n",
    "low, high = yarn_find_correction_range(config['rope_scaling']['beta_fast'], config['rope_scaling']['beta_slow'], dim, rope_theta,  config['rope_scaling']['original_max_position_embeddings'])\n",
    "inv_freq_mask = 1.0 - yarn_linear_ramp_mask(low, high, dim // 2).to(device='cpu', dtype=torch.float32)\n",
    "inv_freq = freq_inter * (1 - inv_freq_mask) + freq_extra * inv_freq_mask\n",
    "\n",
    "t = torch.arange(max_len, device='cpu', dtype=torch.float32)\n",
    "\n",
    "freqs = torch.outer(t, inv_freq)\n",
    "\n",
    "_mscale = float(\n",
    "            yarn_get_mscale(config['rope_scaling']['factor'], config['rope_scaling']['mscale'])\n",
    "            / yarn_get_mscale(config['rope_scaling']['factor'], config['rope_scaling']['mscale_all_dim']))\n",
    "\n",
    "emb = torch.cat((freqs, freqs), dim=-1)\n",
    "\n",
    "cos_cached = (emb.cos() * _mscale).to(torch.bfloat16)\n",
    "sin_cached = (emb.sin() * _mscale).to(torch.bfloat16)"
   ]
  },
  {
   "cell_type": "markdown",
   "metadata": {},
   "source": [
    "### 为q和k添加位置编码"
   ]
  },
  {
   "cell_type": "code",
   "execution_count": 551,
   "metadata": {},
   "outputs": [
    {
     "data": {
      "text/plain": [
       "(torch.Size([14, 64]), torch.Size([14, 64]))"
      ]
     },
     "execution_count": 551,
     "metadata": {},
     "output_type": "execute_result"
    }
   ],
   "source": [
    "kv_seq_len = v_states.shape[-2]\n",
    "cos, sin = cos_cached[:kv_seq_len], sin_cached[:kv_seq_len]   # 取出对应长度的部分\n",
    "cos.shape, sin.shape"
   ]
  },
  {
   "cell_type": "code",
   "execution_count": 552,
   "metadata": {},
   "outputs": [
    {
     "data": {
      "text/plain": [
       "(torch.Size([14, 64]), torch.Size([14, 64]))"
      ]
     },
     "execution_count": 552,
     "metadata": {},
     "output_type": "execute_result"
    }
   ],
   "source": [
    "s, d = q_per_token_pe.shape\n",
    "q_per_token_pe = q_per_token_pe.view(s, d // 2, 2).transpose(2, 1).reshape(s, d)\n",
    "\n",
    "s, d = kv_per_token_rope.shape\n",
    "kv_per_token_rope = kv_per_token_rope.view(s, d // 2, 2).transpose(2, 1).reshape(s, d)\n",
    "\n",
    "q_per_token_pe = (q_per_token_pe * cos) + (rotate_half(q_per_token_pe) * sin)\n",
    "k_per_token_pe = (kv_per_token_rope * cos) + (rotate_half(kv_per_token_rope) * sin)\n",
    "\n",
    "q_per_token_pe.shape, k_per_token_pe.shape"
   ]
  },
  {
   "cell_type": "markdown",
   "metadata": {},
   "source": [
    "由于q和k分别包含了添加位置编码和不添加位置编码的两个部分，因此在计算完位置编码后需要将两部分拼接到一起，从而得到完整的q和k。"
   ]
  },
  {
   "cell_type": "code",
   "execution_count": 553,
   "metadata": {},
   "outputs": [
    {
     "data": {
      "text/plain": [
       "torch.Size([14, 192])"
      ]
     },
     "execution_count": 553,
     "metadata": {},
     "output_type": "execute_result"
    }
   ],
   "source": [
    "query_states = k_per_token_pe.new_empty(q_per_token_pe.shape[0], n_qk_nope_head_dim+n_qk_rope_head_dim)\n",
    "query_states[:, : n_qk_nope_head_dim] = q_per_token_nope\n",
    "query_states[:, n_qk_nope_head_dim :] = q_per_token_pe\n",
    "query_states.shape"
   ]
  },
  {
   "cell_type": "code",
   "execution_count": 554,
   "metadata": {},
   "outputs": [
    {
     "data": {
      "text/plain": [
       "torch.Size([14, 192])"
      ]
     },
     "execution_count": 554,
     "metadata": {},
     "output_type": "execute_result"
    }
   ],
   "source": [
    "key_states = k_per_token_pe.new_empty(k_per_token_pe.shape[0], n_qk_nope_head_dim+n_qk_rope_head_dim)\n",
    "key_states[:, : n_qk_nope_head_dim] = k_per_token_nope[0]   # head 0\n",
    "key_states[:, n_qk_nope_head_dim :] = k_per_token_pe\n",
    "key_states.shape"
   ]
  },
  {
   "cell_type": "markdown",
   "metadata": {},
   "source": [
    "## at this stage now have both the rotated values of queries and keys, for each token. \n",
    "each of the queries and keys are now of shape [14x192]. "
   ]
  },
  {
   "cell_type": "markdown",
   "metadata": {},
   "source": [
    "## in the next step we will multiply the queries and key matrices\n",
    "doing this will give us a score mapping each token with one another\n",
    "<br>\n",
    "this score describes how well each token's query relates to the each tokens's key. \n",
    "THIS IS SELF ATTENTION :)\n",
    "<br>\n",
    "the shape of the attention score matrix (qk_per_token) is [14x14] where 14 is the number of tokens in the prompt"
   ]
  },
  {
   "cell_type": "code",
   "execution_count": 555,
   "metadata": {},
   "outputs": [
    {
     "data": {
      "text/plain": [
       "torch.Size([14, 14])"
      ]
     },
     "execution_count": 555,
     "metadata": {},
     "output_type": "execute_result"
    }
   ],
   "source": [
    "mscale = 0.1 * config['rope_scaling'][\"mscale_all_dim\"] * math.log(config['rope_scaling'][\"factor\"]) + 1.0\n",
    "softmax_scale = (n_qk_nope_head_dim+n_qk_rope_head_dim) ** (0.5) * mscale * mscale         # Deepseek v2 注意力中除以d，是通过系数和维度一通操作算出的，不是简单的hidden_dim的平方根\n",
    "qk_per_token = torch.matmul(query_states, key_states.T)/softmax_scale\n",
    "qk_per_token.shape"
   ]
  },
  {
   "cell_type": "markdown",
   "metadata": {},
   "source": [
    "# we now have to mask query key scores\n",
    "during the training process of deepseek-v2-lite, the future token qk scores are masked.\n",
    "<br>\n",
    "why? because during training we only learn to predict tokens using past tokens.\n",
    "<br>\n",
    "as a result, during inference we set the future tokens to zero."
   ]
  },
  {
   "cell_type": "code",
   "execution_count": 556,
   "metadata": {},
   "outputs": [
    {
     "data": {
      "image/png": "[encoded data removed]",
      "text/plain": [
       "<Figure size 640x480 with 2 Axes>"
      ]
     },
     "metadata": {},
     "output_type": "display_data"
    }
   ],
   "source": [
    "import matplotlib.pyplot as plt\n",
    "def display_qk_heatmap(qk_per_token):\n",
    "    _, ax = plt.subplots()\n",
    "    im = ax.imshow(qk_per_token.to(float).detach(), cmap='viridis')\n",
    "    ax.set_xticks(range(len(prompt_split_as_tokens)))\n",
    "    ax.set_yticks(range(len(prompt_split_as_tokens)))\n",
    "    ax.set_xticklabels(prompt_split_as_tokens)\n",
    "    ax.set_yticklabels(prompt_split_as_tokens)\n",
    "    ax.figure.colorbar(im, ax=ax)\n",
    "    \n",
    "display_qk_heatmap(qk_per_token)"
   ]
  },
  {
   "cell_type": "code",
   "execution_count": 557,
   "metadata": {},
   "outputs": [
    {
     "data": {
      "text/plain": [
       "tensor([[0., -inf, -inf, -inf, -inf, -inf, -inf, -inf, -inf, -inf, -inf, -inf, -inf, -inf],\n",
       "        [0., 0., -inf, -inf, -inf, -inf, -inf, -inf, -inf, -inf, -inf, -inf, -inf, -inf],\n",
       "        [0., 0., 0., -inf, -inf, -inf, -inf, -inf, -inf, -inf, -inf, -inf, -inf, -inf],\n",
       "        [0., 0., 0., 0., -inf, -inf, -inf, -inf, -inf, -inf, -inf, -inf, -inf, -inf],\n",
       "        [0., 0., 0., 0., 0., -inf, -inf, -inf, -inf, -inf, -inf, -inf, -inf, -inf],\n",
       "        [0., 0., 0., 0., 0., 0., -inf, -inf, -inf, -inf, -inf, -inf, -inf, -inf],\n",
       "        [0., 0., 0., 0., 0., 0., 0., -inf, -inf, -inf, -inf, -inf, -inf, -inf],\n",
       "        [0., 0., 0., 0., 0., 0., 0., 0., -inf, -inf, -inf, -inf, -inf, -inf],\n",
       "        [0., 0., 0., 0., 0., 0., 0., 0., 0., -inf, -inf, -inf, -inf, -inf],\n",
       "        [0., 0., 0., 0., 0., 0., 0., 0., 0., 0., -inf, -inf, -inf, -inf],\n",
       "        [0., 0., 0., 0., 0., 0., 0., 0., 0., 0., 0., -inf, -inf, -inf],\n",
       "        [0., 0., 0., 0., 0., 0., 0., 0., 0., 0., 0., 0., -inf, -inf],\n",
       "        [0., 0., 0., 0., 0., 0., 0., 0., 0., 0., 0., 0., 0., -inf],\n",
       "        [0., 0., 0., 0., 0., 0., 0., 0., 0., 0., 0., 0., 0., 0.]])"
      ]
     },
     "execution_count": 557,
     "metadata": {},
     "output_type": "execute_result"
    }
   ],
   "source": [
    "mask = torch.full((len(tokens), len(tokens)), float(\"-inf\"), device=tokens.device)\n",
    "mask = torch.triu(mask, diagonal=1)\n",
    "mask"
   ]
  },
  {
   "cell_type": "code",
   "execution_count": 558,
   "metadata": {},
   "outputs": [
    {
     "data": {
      "image/png": "[encoded data removed]",
      "text/plain": [
       "<Figure size 640x480 with 2 Axes>"
      ]
     },
     "metadata": {},
     "output_type": "display_data"
    }
   ],
   "source": [
    "qk_per_token_after_masking = qk_per_token + mask\n",
    "display_qk_heatmap(qk_per_token_after_masking)"
   ]
  },
  {
   "cell_type": "code",
   "execution_count": 559,
   "metadata": {},
   "outputs": [
    {
     "data": {
      "image/png": "[encoded data removed]",
      "text/plain": [
       "<Figure size 640x480 with 2 Axes>"
      ]
     },
     "metadata": {},
     "output_type": "display_data"
    }
   ],
   "source": [
    "qk_per_token_after_masking_after_softmax = torch.nn.functional.softmax(qk_per_token_after_masking, dim=1, dtype=torch.float32).to(torch.bfloat16)\n",
    "display_qk_heatmap(qk_per_token_after_masking_after_softmax)"
   ]
  },
  {
   "cell_type": "markdown",
   "metadata": {},
   "source": [
    "## value vectors\n",
    "we now use the value weghts to get the attention values per token, this is of size [14x128] where 14 is the number of tokens in the prompt and 128 is the dim of the value vector per token"
   ]
  },
  {
   "cell_type": "code",
   "execution_count": 560,
   "metadata": {},
   "outputs": [
    {
     "data": {
      "text/plain": [
       "torch.Size([14, 128])"
      ]
     },
     "execution_count": 560,
     "metadata": {},
     "output_type": "execute_result"
    }
   ],
   "source": [
    "v_per_token = v_states[0]\n",
    "v_per_token.shape"
   ]
  },
  {
   "cell_type": "markdown",
   "metadata": {},
   "source": [
    "## attention\n",
    "the resultant attention vector after multipying with the values per token is of shape [14*128]"
   ]
  },
  {
   "cell_type": "code",
   "execution_count": 561,
   "metadata": {},
   "outputs": [
    {
     "data": {
      "text/plain": [
       "torch.Size([14, 128])"
      ]
     },
     "execution_count": 561,
     "metadata": {},
     "output_type": "execute_result"
    }
   ],
   "source": [
    "qkv_attention = torch.matmul(qk_per_token_after_masking_after_softmax, v_per_token)\n",
    "qkv_attention.shape"
   ]
  },
  {
   "cell_type": "markdown",
   "metadata": {},
   "source": [
    "### multi head attention\n",
    "We now have the attention value of the first layer and first head\n",
    "<br>\n",
    "now im going to run a loop and perform the exact same math as the cells above but for every head in the first layer"
   ]
  },
  {
   "cell_type": "code",
   "execution_count": 562,
   "metadata": {},
   "outputs": [
    {
     "name": "stdout",
     "output_type": "stream",
     "text": [
      "torch.Size([14, 128])\n"
     ]
    },
    {
     "data": {
      "text/plain": [
       "16"
      ]
     },
     "execution_count": 562,
     "metadata": {},
     "output_type": "execute_result"
    }
   ],
   "source": [
    "qkv_attention_store = []\n",
    "for head in range(n_heads):    # 循环head，逐个计算\n",
    "    q_layer0_head = q_layer0[head]\n",
    "    q_layer0_head_nope, q_layer0_head_pe = torch.split(q_layer0_head, [n_qk_nope_head_dim, n_qk_rope_head_dim], dim=0)\n",
    "    q_per_token_nope = torch.matmul(token_embeddings, q_layer0_head_nope.T)\n",
    "    q_per_token_pe = torch.matmul(token_embeddings, q_layer0_head_pe.T)\n",
    "    \n",
    "    k_layer0_head_nope = k_per_token_nope[head]   # 不计算位置编码的部分区分head\n",
    "    v_per_token = v_states[head]\n",
    "    \n",
    "    kv_seq_len = v_per_token.shape[0]\n",
    "    cos, sin = cos_cached[:kv_seq_len], sin_cached[:kv_seq_len]\n",
    "    \n",
    "    # k的位置编码前面已经计算过了，且同一层head共享一份，所以heads的循环里面只需要为q添加位置编码就行了。\n",
    "    s, d = q_per_token_pe.shape\n",
    "    q_per_token_pe = q_per_token_pe.view(s, d // 2, 2).transpose(2, 1).reshape(s, d)  \n",
    "    q_per_token_pe = (q_per_token_pe * cos) + (rotate_half(q_per_token_pe) * sin)\n",
    "    # 拼接q\n",
    "    query_states = k_per_token_pe.new_empty(q_per_token_pe.shape[0], n_qk_nope_head_dim+n_qk_rope_head_dim)\n",
    "    query_states[:, : n_qk_nope_head_dim] = q_per_token_nope\n",
    "    query_states[:, n_qk_nope_head_dim :] = q_per_token_pe\n",
    "    # 拼接k\n",
    "    key_states = k_per_token_pe.new_empty(k_per_token_pe.shape[0], n_qk_nope_head_dim+n_qk_rope_head_dim)\n",
    "    key_states[:, : n_qk_nope_head_dim] = k_layer0_head_nope\n",
    "    key_states[:, n_qk_nope_head_dim :] = k_per_token_pe     # 计算位置编码的部分，同一层的所有head共享一份\n",
    "    # 计算注意力\n",
    "    qk_per_token = torch.matmul(query_states, key_states.T)/softmax_scale\n",
    "    # 添加掩码\n",
    "    mask = torch.full((len(tokens), len(tokens)), float(\"-inf\"), device=tokens.device)\n",
    "    mask = torch.triu(mask, diagonal=1)\n",
    "    qk_per_token_after_masking = qk_per_token + mask\n",
    "    \n",
    "    qk_per_token_after_masking_after_softmax = torch.nn.functional.softmax(qk_per_token_after_masking, dim=1, dtype=torch.float32).to(torch.bfloat16)\n",
    "\n",
    "    qkv_attention = torch.matmul(qk_per_token_after_masking_after_softmax, v_per_token)\n",
    "    \n",
    "    qkv_attention_store.append(qkv_attention)\n",
    "\n",
    "print(qkv_attention_store[0].shape)\n",
    "len(qkv_attention_store)"
   ]
  },
  {
   "cell_type": "markdown",
   "metadata": {},
   "source": [
    "we now have a the qkv_attention matrix for all 16 heads on the first layer, next im going to merge all attention scores into one large matrix of size [14x2048]\n",
    "<br>\n",
    "we are almost at the end :)"
   ]
  },
  {
   "cell_type": "code",
   "execution_count": 563,
   "metadata": {},
   "outputs": [
    {
     "data": {
      "text/plain": [
       "torch.Size([14, 2048])"
      ]
     },
     "execution_count": 563,
     "metadata": {},
     "output_type": "execute_result"
    }
   ],
   "source": [
    "stacked_qkv_attention = torch.cat(qkv_attention_store, dim=-1)\n",
    "stacked_qkv_attention.shape"
   ]
  },
  {
   "cell_type": "markdown",
   "metadata": {},
   "source": [
    "### weight matrix, one of the final steps\n",
    "one of the last things to do for a layer 0 attention is, is to multiply the weight matrix of the "
   ]
  },
  {
   "cell_type": "code",
   "execution_count": 564,
   "metadata": {},
   "outputs": [
    {
     "data": {
      "text/plain": [
       "torch.Size([2048, 2048])"
      ]
     },
     "execution_count": 564,
     "metadata": {},
     "output_type": "execute_result"
    }
   ],
   "source": [
    "w_layer0 = model[\"model.layers.0.self_attn.o_proj.weight\"]\n",
    "w_layer0.shape"
   ]
  },
  {
   "cell_type": "markdown",
   "metadata": {},
   "source": [
    "### this is a simple linear layer, so we just matmul"
   ]
  },
  {
   "cell_type": "code",
   "execution_count": 565,
   "metadata": {},
   "outputs": [
    {
     "data": {
      "text/plain": [
       "torch.Size([14, 2048])"
      ]
     },
     "execution_count": 565,
     "metadata": {},
     "output_type": "execute_result"
    }
   ],
   "source": [
    "embedding_delta = torch.matmul(stacked_qkv_attention, w_layer0.T)\n",
    "embedding_delta.shape"
   ]
  },
  {
   "cell_type": "markdown",
   "metadata": {},
   "source": [
    "we now have the change in the embedding value after attention, that should be adding to the original token embeddings"
   ]
  },
  {
   "cell_type": "code",
   "execution_count": 566,
   "metadata": {},
   "outputs": [
    {
     "data": {
      "text/plain": [
       "torch.Size([14, 2048])"
      ]
     },
     "execution_count": 566,
     "metadata": {},
     "output_type": "execute_result"
    }
   ],
   "source": [
    "embedding_after_edit = token_embeddings_unnormalized + embedding_delta\n",
    "embedding_after_edit.shape"
   ]
  },
  {
   "cell_type": "markdown",
   "metadata": {},
   "source": [
    "### we normalize and then run a feed forward neural network through the embedding delta"
   ]
  },
  {
   "cell_type": "code",
   "execution_count": 567,
   "metadata": {},
   "outputs": [
    {
     "data": {
      "text/plain": [
       "torch.Size([14, 2048])"
      ]
     },
     "execution_count": 567,
     "metadata": {},
     "output_type": "execute_result"
    }
   ],
   "source": [
    "embedding_after_edit_normalized = rms_norm(embedding_after_edit, model[\"model.layers.0.post_attention_layernorm.weight\"])\n",
    "embedding_after_edit_normalized.shape"
   ]
  },
  {
   "cell_type": "markdown",
   "metadata": {},
   "source": [
    "### loading the ff weights and implementing the feed forward network\n",
    "in deepseek-v2-lite, they used a SwiGLU feedforward network, this network architecture is really good at adding non linearity when needed by the model.\n",
    "<br>\n",
    "its pretty standard to use this feed forward network architecture in llms these days"
   ]
  },
  {
   "cell_type": "code",
   "execution_count": 568,
   "metadata": {},
   "outputs": [
    {
     "data": {
      "text/plain": [
       "torch.Size([14, 2048])"
      ]
     },
     "execution_count": 568,
     "metadata": {},
     "output_type": "execute_result"
    }
   ],
   "source": [
    "w1 = model[\"model.layers.0.mlp.gate_proj.weight\"]\n",
    "w2 = model[\"model.layers.0.mlp.down_proj.weight\"]\n",
    "w3 = model[\"model.layers.0.mlp.up_proj.weight\"]\n",
    "\n",
    "output_after_feedforward = torch.matmul(torch.functional.F.silu(torch.matmul(embedding_after_edit_normalized, w1.T)) * torch.matmul(embedding_after_edit_normalized, w3.T), w2.T)\n",
    "output_after_feedforward.shape"
   ]
  },
  {
   "cell_type": "markdown",
   "metadata": {},
   "source": [
    "### We finally have new edited embeddings for each token after the first layer \n",
    "\n",
    "you can imagine this edited embedding as having information about all queries asked on the first layer\n",
    "<br>\n",
    "now each layer will encode more and more complex queries on the quesions asked, until we have an embedding that knows everything about the next token that we need."
   ]
  },
  {
   "cell_type": "code",
   "execution_count": 569,
   "metadata": {},
   "outputs": [
    {
     "data": {
      "text/plain": [
       "torch.Size([14, 2048])"
      ]
     },
     "execution_count": 569,
     "metadata": {},
     "output_type": "execute_result"
    }
   ],
   "source": [
    "layer_0_embedding = embedding_after_edit+output_after_feedforward\n",
    "layer_0_embedding.shape"
   ]
  },
  {
   "cell_type": "markdown",
   "metadata": {},
   "source": [
    "### BUT\n",
    "MOE结构好像还没出现。\n",
    "<br>\n",
    "\n",
    "其实是因为Deepseek-V2-Lite第一层并没有使用MOE，而是从第二层开始才使用MOE层替换FFN，所以继续看第二层的分解流程。\n",
    "<br>\n",
    "\n",
    "前面的self-attn部分和第一层是一样的，直接全部执行。"
   ]
  },
  {
   "cell_type": "code",
   "execution_count": 570,
   "metadata": {},
   "outputs": [],
   "source": [
    "token_embeddings_unnormalized = layer_0_embedding\n",
    "token_embeddings = rms_norm(token_embeddings_unnormalized, model[\"model.layers.1.input_layernorm.weight\"])\n",
    "q_layer1 = model[\"model.layers.1.self_attn.q_proj.weight\"]\n",
    "q_layer1 = q_layer1.reshape(n_heads, n_qk_nope_head_dim+n_qk_rope_head_dim, -1)\n",
    "\n",
    "kv_layer1 = model[\"model.layers.1.self_attn.kv_a_proj_with_mqa.weight\"]\n",
    "kv_layer1_compressed, kv_layer1_rope =  torch.split(kv_layer1, [kv_lora_rank, n_qk_rope_head_dim], dim=0)\n",
    "kv_per_token_compressed = torch.matmul(token_embeddings, kv_layer1_compressed.T)\n",
    "kv_per_token_rope = torch.matmul(token_embeddings, kv_layer1_rope.T)\n",
    "kv_layer1_norm = model[\"model.layers.1.self_attn.kv_a_layernorm.weight\"]\n",
    "kv_layer1_b = model[\"model.layers.1.self_attn.kv_b_proj.weight\"]\n",
    "kv_per_token_b = torch.matmul(rms_norm(kv_per_token_compressed, kv_layer1_norm), kv_layer1_b.T)\n",
    "kv_per_token_compressed = kv_per_token_b.reshape(len(tokens), n_heads, n_qk_nope_head_dim+n_v_channels).transpose(0,1)\n",
    "k_per_token_nope, v_states = torch.split(kv_per_token_compressed, [n_qk_nope_head_dim, n_v_channels], dim=-1)"
   ]
  },
  {
   "cell_type": "code",
   "execution_count": 571,
   "metadata": {},
   "outputs": [
    {
     "name": "stdout",
     "output_type": "stream",
     "text": [
      "torch.Size([14, 128])\n"
     ]
    },
    {
     "data": {
      "text/plain": [
       "16"
      ]
     },
     "execution_count": 571,
     "metadata": {},
     "output_type": "execute_result"
    }
   ],
   "source": [
    "qkv_attention_store = []\n",
    "for head in range(n_heads):\n",
    "    q_layer1_head = q_layer1[head]\n",
    "    q_layer1_head_nope, q_layer1_head_pe = torch.split(q_layer1_head, [n_qk_nope_head_dim, n_qk_rope_head_dim], dim=0)\n",
    "    q_per_token_nope = torch.matmul(token_embeddings, q_layer1_head_nope.T)\n",
    "    q_per_token_pe = torch.matmul(token_embeddings, q_layer1_head_pe.T)\n",
    "    \n",
    "    k_layer1_head_nope = k_per_token_nope[head]\n",
    "    v_per_token = v_states[head]\n",
    "    \n",
    "    kv_seq_len = v_per_token.shape[0]\n",
    "    cos, sin = cos_cached[:kv_seq_len], sin_cached[:kv_seq_len]\n",
    "    \n",
    "    s, d = q_per_token_pe.shape\n",
    "    q_per_token_pe = q_per_token_pe.view(s, d // 2, 2).transpose(2, 1).reshape(s, d)   \n",
    "    q_per_token_pe = (q_per_token_pe * cos) + (rotate_half(q_per_token_pe) * sin)\n",
    "    \n",
    "    query_states = k_per_token_pe.new_empty(q_per_token_pe.shape[0], n_qk_nope_head_dim+n_qk_rope_head_dim)\n",
    "    query_states[:, : n_qk_nope_head_dim] = q_per_token_nope\n",
    "    query_states[:, n_qk_nope_head_dim :] = q_per_token_pe\n",
    "    \n",
    "    key_states = k_per_token_pe.new_empty(k_per_token_pe.shape[0], n_qk_nope_head_dim+n_qk_rope_head_dim)\n",
    "    key_states[:, : n_qk_nope_head_dim] = k_layer1_head_nope   # head 0\n",
    "    key_states[:, n_qk_nope_head_dim :] = k_per_token_pe\n",
    "    \n",
    "    qk_per_token = torch.matmul(query_states, key_states.T)/softmax_scale\n",
    "    \n",
    "    mask = torch.full((len(tokens), len(tokens)), float(\"-inf\"), device=tokens.device)\n",
    "    mask = torch.triu(mask, diagonal=1)\n",
    "    qk_per_token_after_masking = qk_per_token + mask\n",
    "    \n",
    "    qk_per_token_after_masking_after_softmax = torch.nn.functional.softmax(qk_per_token_after_masking, dim=1, dtype=torch.float32).to(torch.bfloat16)\n",
    "\n",
    "    qkv_attention = torch.matmul(qk_per_token_after_masking_after_softmax, v_per_token)\n",
    "    \n",
    "    qkv_attention_store.append(qkv_attention)\n",
    "\n",
    "print(qkv_attention_store[0].shape)\n",
    "len(qkv_attention_store)"
   ]
  },
  {
   "cell_type": "code",
   "execution_count": 572,
   "metadata": {},
   "outputs": [
    {
     "data": {
      "text/plain": [
       "torch.Size([14, 2048])"
      ]
     },
     "execution_count": 572,
     "metadata": {},
     "output_type": "execute_result"
    }
   ],
   "source": [
    "stacked_qkv_attention = torch.cat(qkv_attention_store, dim=-1)\n",
    "w_layer1 = model[\"model.layers.1.self_attn.o_proj.weight\"]\n",
    "embedding_delta = torch.matmul(stacked_qkv_attention, w_layer1.T)\n",
    "embedding_after_edit = token_embeddings_unnormalized + embedding_delta\n",
    "embedding_after_edit_normalized = rms_norm(embedding_after_edit, model[\"model.layers.1.post_attention_layernorm.weight\"])\n",
    "embedding_after_edit_normalized.shape"
   ]
  },
  {
   "cell_type": "markdown",
   "metadata": {},
   "source": [
    "### MOE 从这里开始"
   ]
  },
  {
   "cell_type": "code",
   "execution_count": 573,
   "metadata": {},
   "outputs": [
    {
     "name": "stdout",
     "output_type": "stream",
     "text": [
      "torch.Size([64, 2048])\n",
      "torch.Size([2816, 2048])\n",
      "torch.Size([2816, 2048])\n",
      "torch.Size([2048, 2816])\n",
      "torch.Size([1408, 2048])\n",
      "torch.Size([1408, 2048])\n",
      "torch.Size([2048, 1408])\n"
     ]
    }
   ],
   "source": [
    "# 打印部分权重的shape\n",
    "print(model['model.layers.1.mlp.gate.weight'].shape)\n",
    "print(model['model.layers.1.mlp.shared_experts.gate_proj.weight'].shape)\n",
    "print(model['model.layers.1.mlp.shared_experts.up_proj.weight'].shape)\n",
    "print(model['model.layers.1.mlp.shared_experts.down_proj.weight'].shape)\n",
    "print(model['model.layers.1.mlp.experts.0.gate_proj.weight'].shape)\n",
    "print(model['model.layers.1.mlp.experts.0.up_proj.weight'].shape)\n",
    "print(model['model.layers.1.mlp.experts.0.down_proj.weight'].shape)\n"
   ]
  },
  {
   "cell_type": "markdown",
   "metadata": {},
   "source": [
    "### Shard exports"
   ]
  },
  {
   "cell_type": "code",
   "execution_count": 574,
   "metadata": {},
   "outputs": [
    {
     "data": {
      "text/plain": [
       "torch.Size([14, 2048])"
      ]
     },
     "execution_count": 574,
     "metadata": {},
     "output_type": "execute_result"
    }
   ],
   "source": [
    "w1 = model[\"model.layers.1.mlp.shared_experts.gate_proj.weight\"]\n",
    "w2 = model[\"model.layers.1.mlp.shared_experts.down_proj.weight\"]\n",
    "w3 = model[\"model.layers.1.mlp.shared_experts.up_proj.weight\"]\n",
    "\n",
    "output_after_shardexports = torch.matmul(torch.functional.F.silu(torch.matmul(embedding_after_edit_normalized, w1.T)) * torch.matmul(embedding_after_edit_normalized, w3.T), w2.T)\n",
    "output_after_shardexports.shape"
   ]
  },
  {
   "cell_type": "markdown",
   "metadata": {},
   "source": [
    "### route exports\n",
    "Gate\n",
    "<br>\n",
    "决定每个token应该发送到哪几个专家。topk=6，也就是每个token选6个专家。\n",
    "<br><br>\n",
    "这里得到14x64，14是token数量，64是对应64个专家。"
   ]
  },
  {
   "cell_type": "code",
   "execution_count": 575,
   "metadata": {},
   "outputs": [
    {
     "data": {
      "text/plain": [
       "torch.Size([14, 64])"
      ]
     },
     "execution_count": 575,
     "metadata": {},
     "output_type": "execute_result"
    }
   ],
   "source": [
    "gate_logits = torch.matmul(embedding_after_edit_normalized, model['model.layers.1.mlp.gate.weight'].T)\n",
    "gate_logits.shape"
   ]
  },
  {
   "cell_type": "markdown",
   "metadata": {},
   "source": [
    "对每个token在64个专家上计算softmax"
   ]
  },
  {
   "cell_type": "code",
   "execution_count": 576,
   "metadata": {},
   "outputs": [
    {
     "data": {
      "text/plain": [
       "torch.Size([14, 64])"
      ]
     },
     "execution_count": 576,
     "metadata": {},
     "output_type": "execute_result"
    }
   ],
   "source": [
    "gate_scores = gate_logits.softmax(dim=-1, dtype=torch.float32)\n",
    "gate_scores.shape"
   ]
  },
  {
   "cell_type": "markdown",
   "metadata": {},
   "source": [
    "每个token取topk个专家的值和对应的id。\n",
    "<br>\n",
    "weight表示softmax之后最大的前6个值，idx表示这6个值对应的id，也即是专家的序号。"
   ]
  },
  {
   "cell_type": "code",
   "execution_count": 577,
   "metadata": {},
   "outputs": [
    {
     "data": {
      "text/plain": [
       "(torch.Size([14, 6]), torch.Size([14, 6]))"
      ]
     },
     "execution_count": 577,
     "metadata": {},
     "output_type": "execute_result"
    }
   ],
   "source": [
    "topk_weight, topk_idx = torch.topk(gate_scores, k=n_experts_per_tok, dim=-1, sorted=False)\n",
    "topk_weight.shape, topk_idx.shape"
   ]
  },
  {
   "cell_type": "markdown",
   "metadata": {},
   "source": [
    "创建一个14x64的全0矩阵。"
   ]
  },
  {
   "cell_type": "code",
   "execution_count": 578,
   "metadata": {},
   "outputs": [
    {
     "data": {
      "text/plain": [
       "torch.Size([14, 64])"
      ]
     },
     "execution_count": 578,
     "metadata": {},
     "output_type": "execute_result"
    }
   ],
   "source": [
    "cnts = topk_idx.new_zeros((topk_idx.shape[0], n_routed_experts))\n",
    "cnts.shape"
   ]
  },
  {
   "cell_type": "markdown",
   "metadata": {},
   "source": [
    "每个token对应一行。将每个token要发送到的专家所在的位置置1.\n",
    "<br>\n",
    "假设第一个token被分配到序号为第 0，2，10，38，40，63 共计6个专家，则cnts第一行的第 0，2，10，38，40，63位置为1."
   ]
  },
  {
   "cell_type": "code",
   "execution_count": 579,
   "metadata": {},
   "outputs": [
    {
     "data": {
      "text/plain": [
       "tensor([[0, 0, 0, 0, 0, 0, 0, 0, 0, 0, 0, 0, 0, 0, 0, 0, 0, 0, 0, 0, 0, 0, 1, 0,\n",
       "         1, 0, 0, 0, 0, 0, 0, 0, 0, 0, 0, 0, 0, 0, 0, 0, 0, 0, 1, 1, 0, 0, 1, 0,\n",
       "         0, 0, 0, 0, 0, 0, 0, 0, 0, 0, 0, 0, 0, 0, 0, 1],\n",
       "        [0, 0, 0, 0, 0, 0, 1, 0, 1, 0, 0, 1, 0, 0, 0, 0, 0, 0, 0, 0, 0, 0, 0, 0,\n",
       "         0, 0, 1, 0, 0, 0, 0, 0, 0, 0, 0, 0, 0, 0, 0, 0, 0, 0, 0, 0, 0, 0, 1, 0,\n",
       "         0, 0, 0, 0, 0, 0, 0, 0, 0, 0, 0, 0, 0, 0, 1, 0],\n",
       "        [0, 0, 0, 0, 0, 1, 0, 0, 1, 0, 0, 0, 0, 0, 0, 0, 0, 1, 0, 0, 0, 0, 0, 1,\n",
       "         0, 0, 0, 0, 0, 0, 0, 0, 0, 0, 0, 0, 0, 0, 1, 0, 0, 0, 0, 0, 0, 0, 0, 0,\n",
       "         0, 0, 0, 0, 0, 0, 0, 0, 0, 0, 0, 0, 0, 0, 0, 1],\n",
       "        [0, 0, 0, 0, 0, 0, 0, 0, 0, 0, 0, 0, 0, 0, 0, 0, 0, 0, 0, 0, 0, 0, 0, 1,\n",
       "         0, 0, 0, 0, 0, 0, 0, 0, 1, 0, 0, 0, 0, 1, 0, 0, 0, 1, 0, 0, 0, 0, 0, 0,\n",
       "         1, 0, 0, 0, 0, 0, 0, 0, 0, 0, 1, 0, 0, 0, 0, 0],\n",
       "        [1, 0, 0, 0, 0, 0, 0, 0, 0, 1, 0, 1, 0, 0, 1, 0, 0, 0, 0, 0, 0, 0, 0, 0,\n",
       "         0, 0, 0, 0, 0, 0, 0, 0, 0, 0, 0, 0, 0, 1, 0, 0, 0, 0, 1, 0, 0, 0, 0, 0,\n",
       "         0, 0, 0, 0, 0, 0, 0, 0, 0, 0, 0, 0, 0, 0, 0, 0],\n",
       "        [0, 0, 0, 0, 1, 0, 0, 0, 0, 0, 0, 1, 0, 0, 0, 0, 0, 0, 0, 0, 0, 0, 0, 0,\n",
       "         0, 0, 0, 0, 1, 0, 0, 0, 0, 0, 0, 0, 0, 0, 0, 0, 0, 0, 0, 1, 1, 0, 0, 0,\n",
       "         0, 0, 0, 1, 0, 0, 0, 0, 0, 0, 0, 0, 0, 0, 0, 0],\n",
       "        [0, 0, 0, 0, 0, 0, 1, 0, 0, 0, 0, 0, 0, 0, 0, 0, 0, 0, 0, 0, 1, 0, 0, 0,\n",
       "         0, 0, 1, 0, 0, 0, 0, 0, 0, 0, 0, 0, 0, 0, 0, 0, 0, 0, 0, 0, 0, 0, 0, 0,\n",
       "         0, 0, 0, 0, 0, 0, 0, 1, 0, 0, 0, 0, 1, 0, 1, 0],\n",
       "        [1, 0, 0, 0, 0, 1, 0, 0, 0, 0, 0, 0, 0, 0, 0, 0, 0, 0, 0, 0, 1, 0, 0, 0,\n",
       "         0, 0, 0, 1, 0, 1, 0, 0, 0, 0, 0, 0, 0, 0, 1, 0, 0, 0, 0, 0, 0, 0, 0, 0,\n",
       "         0, 0, 0, 0, 0, 0, 0, 0, 0, 0, 0, 0, 0, 0, 0, 0],\n",
       "        [0, 1, 0, 0, 0, 0, 0, 0, 0, 0, 0, 0, 0, 0, 0, 0, 0, 1, 0, 0, 0, 0, 0, 0,\n",
       "         1, 0, 0, 0, 0, 1, 0, 0, 0, 0, 0, 0, 0, 0, 1, 0, 0, 0, 0, 0, 0, 0, 0, 0,\n",
       "         0, 0, 0, 0, 1, 0, 0, 0, 0, 0, 0, 0, 0, 0, 0, 0],\n",
       "        [0, 0, 0, 0, 0, 0, 0, 0, 0, 0, 0, 0, 0, 0, 0, 0, 0, 1, 1, 0, 0, 0, 0, 0,\n",
       "         0, 0, 0, 0, 0, 0, 0, 0, 0, 0, 0, 0, 0, 1, 0, 0, 0, 0, 1, 0, 0, 0, 0, 0,\n",
       "         0, 0, 0, 0, 0, 0, 1, 0, 0, 0, 1, 0, 0, 0, 0, 0],\n",
       "        [0, 1, 0, 0, 0, 0, 0, 0, 0, 0, 0, 0, 0, 0, 0, 0, 0, 1, 0, 0, 0, 0, 0, 0,\n",
       "         1, 0, 0, 0, 0, 0, 0, 0, 0, 0, 0, 0, 0, 0, 0, 0, 0, 1, 0, 0, 0, 0, 0, 0,\n",
       "         0, 0, 0, 0, 1, 0, 0, 1, 0, 0, 0, 0, 0, 0, 0, 0],\n",
       "        [0, 0, 0, 0, 0, 0, 1, 0, 1, 0, 0, 1, 1, 0, 0, 0, 0, 1, 0, 0, 0, 1, 0, 0,\n",
       "         0, 0, 0, 0, 0, 0, 0, 0, 0, 0, 0, 0, 0, 0, 0, 0, 0, 0, 0, 0, 0, 0, 0, 0,\n",
       "         0, 0, 0, 0, 0, 0, 0, 0, 0, 0, 0, 0, 0, 0, 0, 0],\n",
       "        [0, 0, 0, 1, 0, 0, 0, 0, 0, 0, 0, 0, 0, 0, 0, 0, 0, 0, 1, 1, 0, 0, 0, 0,\n",
       "         0, 0, 0, 0, 0, 0, 0, 1, 0, 0, 0, 0, 0, 0, 0, 0, 0, 0, 0, 0, 0, 0, 0, 0,\n",
       "         0, 0, 0, 0, 0, 0, 0, 0, 0, 0, 1, 0, 0, 1, 0, 0],\n",
       "        [0, 1, 0, 0, 0, 0, 0, 0, 0, 0, 0, 0, 0, 0, 0, 0, 0, 0, 0, 0, 0, 0, 0, 0,\n",
       "         1, 0, 0, 0, 0, 0, 0, 0, 0, 0, 0, 1, 0, 0, 0, 0, 0, 0, 0, 1, 1, 0, 0, 0,\n",
       "         0, 0, 0, 0, 1, 0, 0, 0, 0, 0, 0, 0, 0, 0, 0, 0]])"
      ]
     },
     "execution_count": 579,
     "metadata": {},
     "output_type": "execute_result"
    }
   ],
   "source": [
    "cnts.scatter_(1, topk_idx, 1)"
   ]
  },
  {
   "cell_type": "markdown",
   "metadata": {},
   "source": [
    "对dim=0求和，得到每个专家分配到的token数。\n",
    "<br>\n",
    "注意区别，虽然每个token会被发送到6个专家的，但是每个专家接收的token数量并不一定，也许会接收多个，也许是一个，也许一个也不接收。"
   ]
  },
  {
   "cell_type": "code",
   "execution_count": 580,
   "metadata": {},
   "outputs": [
    {
     "data": {
      "text/plain": [
       "tensor([2, 3, 0, 1, 1, 2, 3, 0, 3, 1, 0, 4, 1, 0, 1, 0, 0, 5, 2, 1, 2, 1, 1, 2,\n",
       "        4, 0, 2, 1, 1, 2, 0, 1, 1, 0, 0, 1, 0, 3, 3, 0, 0, 2, 3, 3, 2, 0, 2, 0,\n",
       "        1, 0, 0, 1, 3, 0, 1, 2, 0, 0, 3, 0, 1, 1, 2, 2])"
      ]
     },
     "execution_count": 580,
     "metadata": {},
     "output_type": "execute_result"
    }
   ],
   "source": [
    "tokens_per_expert = cnts.sum(dim=0)\n",
    "tokens_per_expert"
   ]
  },
  {
   "cell_type": "markdown",
   "metadata": {},
   "source": [
    "topk_idx中存的是每个token被分配的专家的序号。\n",
    "<br>\n",
    "对topk_idx进行排序，则是将所有token选择的所有专家的序号进行排序，argsort()返回的是排序后的值在排序前所在的序号。\n",
    "<br>\n",
    "排序前，topk_idx里面共计14*6=84个数值，每个值都是一个token选择的一个专家序号，这个序号是64个专家的序号。"
   ]
  },
  {
   "cell_type": "markdown",
   "metadata": {},
   "source": [
    "idxs是按照专家序号排序后的原位置的索引，也就是按照64个专家的序号排序，返回的是排序前的位置。比如第3个token选择的第5个专家是38，那么topk_idx在view后的第(3-1)*6+(5-1)=16个位置的值是38。-1是因为序号是从0开始。\n",
    "<br><br>\n",
    "将专家序号按照从小到大的排序后，假设38号专家排在第45位，那么idxs的第45个位置的值，就是16. 也就是idxs里面存的是排序后该位置的值在排序前所在的位置。\n",
    "<br><br>\n",
    "注意，前面说过每个token选择6个专家是提前设定的，但是每个专家是否被选择、同时被几个token选择，是不固定的，所以38号专家按照序号排序时排在哪个位置，都是有可能的。当然由于每个专家最大接收数量一般也有限制，所以38号排序时基本不会出现在前几个或者最后几个，这是特例不用纠结。"
   ]
  },
  {
   "cell_type": "code",
   "execution_count": 581,
   "metadata": {},
   "outputs": [
    {
     "data": {
      "text/plain": [
       "tensor([46, 27, 48, 82, 64, 77, 34, 12, 45, 39, 10, 66, 16,  6, 68, 25, 35,  8,\n",
       "        70, 29, 71, 24, 69, 51, 65, 17, 54, 57, 72, 73, 44, 36, 67,  4, 19, 14,\n",
       "        63,  3, 50, 81, 11, 40, 42, 30, 52, 47, 76, 21, 78, 56, 28, 18, 43, 53,\n",
       "        15, 61, 23, 55, 26,  0, 83,  1, 31, 80, 32,  2,  7, 20, 33, 60, 49, 79,\n",
       "        58, 62, 37, 75, 22, 59, 41, 74,  9, 38, 13,  5])"
      ]
     },
     "execution_count": 581,
     "metadata": {},
     "output_type": "execute_result"
    }
   ],
   "source": [
    "idxs = topk_idx.view(-1).argsort()\n",
    "idxs"
   ]
  },
  {
   "cell_type": "markdown",
   "metadata": {},
   "source": [
    "这里是按照排序后的索引取token。\n",
    "<br><br>\n",
    "书接上文。假设idxs第45个位置的值是16，对应的是38号专家。则 idxs[44] // topk_idx.shape[1] 就是 16//6=2，也就是对应3个token。\n",
    "<br><br>\n",
    "所以 idxs // topk_idx.shape[1] 就是拿专家排序前的索引，找到选择该专家的token索引。然后根据该所以取出来token放到排序后专家所在的位置，这样就可以生成一个按照排序后专家的顺序对应的token，也就是将同一个专家接收的token放到了一起，可以很方便的通过遍历专家一块处理。\n",
    "<br><br>\n",
    "sorted_tokens的维度是84*2048，2048是Embedding维度，84是什么？就是14个token，每个token选择了6个专家，也就是说64个专家被选择了84次。所以现在按照这84次，取出了对应的token。\n",
    "<br><br>\n",
    "这84个token排序是按照所有token选择的所有专家的序号拍的，比如有2个token选择了0号专家，则在这84的前两个就表示选择了0号专家的2个token。"
   ]
  },
  {
   "cell_type": "code",
   "execution_count": 582,
   "metadata": {},
   "outputs": [
    {
     "data": {
      "text/plain": [
       "torch.Size([84, 2048])"
      ]
     },
     "execution_count": 582,
     "metadata": {},
     "output_type": "execute_result"
    }
   ],
   "source": [
    "sorted_tokens = embedding_after_edit_normalized[idxs // topk_idx.shape[1]]\n",
    "sorted_tokens.shape"
   ]
  },
  {
   "cell_type": "markdown",
   "metadata": {},
   "source": [
    "tokens_per_expert是每个专家被选择的次数，也就是每个专家要处理的token数。\n",
    "<br><br>\n",
    "比如第0号专家，有两个token选择，则tokens_per_expert的第一个元素是2，而sorted_tokens的前两个正好就是选择了0号专家的2个token。因此通过遍历tokens_per_expert即可依次取出每个专家要处理的token，并行处理。\n",
    "<br><br>\n",
    "如果tokens_per_expert的某个元素是0，则表示该专家没有token选取，直接跳过即可。\n",
    "<br><br>\n",
    "处理完成后再拼接回84x2048，shape不变。"
   ]
  },
  {
   "cell_type": "code",
   "execution_count": 583,
   "metadata": {},
   "outputs": [
    {
     "data": {
      "text/plain": [
       "torch.Size([84, 2048])"
      ]
     },
     "execution_count": 583,
     "metadata": {},
     "output_type": "execute_result"
    }
   ],
   "source": [
    "tokens_per_expert = tokens_per_expert.cpu().numpy()\n",
    "outputs = []\n",
    "start_idx = 0\n",
    "for i, num_tokens in enumerate(tokens_per_expert):\n",
    "    end_idx = start_idx + num_tokens\n",
    "    if num_tokens == 0:\n",
    "        continue\n",
    "    w1 = model[f\"model.layers.1.mlp.experts.{i}.gate_proj.weight\"]\n",
    "    w2 = model[f\"model.layers.1.mlp.experts.{i}.down_proj.weight\"]\n",
    "    w3 = model[f\"model.layers.1.mlp.experts.{i}.up_proj.weight\"]\n",
    "    tokens_for_this_expert = sorted_tokens[start_idx:end_idx]\n",
    "    expert_out = torch.matmul(torch.functional.F.silu(torch.matmul(tokens_for_this_expert, w1.T)) * torch.matmul(tokens_for_this_expert, w3.T), w2.T)\n",
    "    outputs.append(expert_out)\n",
    "    start_idx = end_idx\n",
    "\n",
    "outs = torch.cat(outputs, dim=0) if len(outputs) else sorted_tokens.new_empty(0)\n",
    "outs.shape"
   ]
  },
  {
   "cell_type": "code",
   "execution_count": 584,
   "metadata": {},
   "outputs": [
    {
     "data": {
      "text/plain": [
       "torch.Size([84, 2048])"
      ]
     },
     "execution_count": 584,
     "metadata": {},
     "output_type": "execute_result"
    }
   ],
   "source": [
    "new_x = torch.empty_like(outs)\n",
    "new_x.shape"
   ]
  },
  {
   "cell_type": "markdown",
   "metadata": {},
   "source": [
    "这里和前面的处理相呼应，是逆变换。\n",
    "<br><br>\n",
    "回想上面的sorted_tokens是怎么产生的。是按照所有token选择的所有专家的序号，取token生成的。所以14个token共计选择84个专家(总共64个专家，有重复选取)，然后按照84个专家的采样了14个token，每个token被采样了6次。\n",
    "<br><br>\n",
    "现在token被所有专家处理完了，要被映射回去。从按照专家序号排序，变回按照token顺序排序。\n",
    "<br><br>\n",
    "和上面一样，假设idxs第45个位置的值是16，那么new_x[16]=outs[45]，和之前的变化正好反过来。变换后，16这个位置的值就是第3个token被第5个专家处理后的结果。"
   ]
  },
  {
   "cell_type": "code",
   "execution_count": 585,
   "metadata": {},
   "outputs": [
    {
     "data": {
      "text/plain": [
       "torch.Size([84, 2048])"
      ]
     },
     "execution_count": 585,
     "metadata": {},
     "output_type": "execute_result"
    }
   ],
   "source": [
    "new_x[idxs] = outs\n",
    "new_x.shape"
   ]
  },
  {
   "cell_type": "markdown",
   "metadata": {},
   "source": [
    "这里要对一个token经过6个专家处理后的结果做加权处理。\n",
    "<br><br>\n",
    "new_x.view(*topk_idx.shape, -1)将84x2048变成14x6x2048，然后再和topk_weights相乘。类似于self-attn中attention 乘以 value vector。\n",
    "<br><br> 最后再第1维进行求和，变成14x2048。"
   ]
  },
  {
   "cell_type": "code",
   "execution_count": 586,
   "metadata": {},
   "outputs": [
    {
     "data": {
      "text/plain": [
       "torch.Size([14, 2048])"
      ]
     },
     "execution_count": 586,
     "metadata": {},
     "output_type": "execute_result"
    }
   ],
   "source": [
    "output_after_routeexports = new_x.view(*topk_idx.shape, -1).type(topk_weight.dtype).mul_(topk_weight.unsqueeze(dim=-1)).sum(dim=1).type(new_x.dtype)\n",
    "output_after_routeexports.shape"
   ]
  },
  {
   "cell_type": "markdown",
   "metadata": {},
   "source": [
    "MOE部分最终输出\n",
    "<br><br>\n",
    "将共享专家处理的结果和route专家生成的结果求和，作为最终的MOE结果输出。"
   ]
  },
  {
   "cell_type": "code",
   "execution_count": 587,
   "metadata": {},
   "outputs": [
    {
     "data": {
      "text/plain": [
       "torch.Size([14, 2048])"
      ]
     },
     "execution_count": 587,
     "metadata": {},
     "output_type": "execute_result"
    }
   ],
   "source": [
    "final_out = output_after_shardexports + output_after_routeexports\n",
    "final_out.shape"
   ]
  },
  {
   "cell_type": "code",
   "execution_count": 588,
   "metadata": {},
   "outputs": [],
   "source": [
    "layer_1_embedding = embedding_after_edit + final_out"
   ]
  },
  {
   "cell_type": "markdown",
   "metadata": {},
   "source": [
    "## god, everything all at once\n",
    "yep, this is it. everything we did before, all at once, for every single layer.\n",
    "<br>\n",
    "\n",
    "## have fun reading :)"
   ]
  },
  {
   "cell_type": "code",
   "execution_count": 589,
   "metadata": {},
   "outputs": [],
   "source": [
    "# k_cache, v_cache = [], []   # init k v cache"
   ]
  },
  {
   "cell_type": "code",
   "execution_count": 590,
   "metadata": {},
   "outputs": [],
   "source": [
    "final_embedding = layer_0_embedding\n",
    "for layer in range(1, n_layers):\n",
    "    token_embeddings = rms_norm(final_embedding, model[f\"model.layers.{layer}.input_layernorm.weight\"])\n",
    "    q_layer = model[f\"model.layers.{layer}.self_attn.q_proj.weight\"]\n",
    "    q_layer = q_layer.reshape(n_heads, n_qk_nope_head_dim+n_qk_rope_head_dim, -1)\n",
    "\n",
    "    kv_layer = model[f\"model.layers.{layer}.self_attn.kv_a_proj_with_mqa.weight\"]\n",
    "    kv_layer_compressed, kv_layer_rope =  torch.split(kv_layer, [kv_lora_rank, n_qk_rope_head_dim], dim=0)\n",
    "    kv_per_token_compressed = torch.matmul(token_embeddings, kv_layer_compressed.T)\n",
    "    kv_per_token_rope = torch.matmul(token_embeddings, kv_layer_rope.T)\n",
    "    kv_layer_norm = model[f\"model.layers.{layer}.self_attn.kv_a_layernorm.weight\"]\n",
    "    kv_layer_b = model[f\"model.layers.{layer}.self_attn.kv_b_proj.weight\"]\n",
    "    kv_per_token_b = torch.matmul(rms_norm(kv_per_token_compressed, kv_layer_norm), kv_layer_b.T)\n",
    "    kv_per_token_compressed = kv_per_token_b.reshape(len(tokens), n_heads, n_qk_nope_head_dim+n_v_channels).transpose(0,1)\n",
    "    k_per_token_nope, v_states = torch.split(kv_per_token_compressed, [n_qk_nope_head_dim, n_v_channels], dim=-1)\n",
    "\n",
    "    s, d = kv_per_token_rope.shape\n",
    "    kv_per_token_rope = kv_per_token_rope.view(s, d // 2, 2).transpose(2, 1).reshape(s, d)\n",
    "    k_per_token_pe = (kv_per_token_rope * cos) + (rotate_half(kv_per_token_rope) * sin)\n",
    "    \n",
    "    qkv_attention_store = []\n",
    "    for head in range(n_heads):\n",
    "        q_layer_head = q_layer[head]\n",
    "        q_layer_head_nope, q_layer_head_pe = torch.split(q_layer_head, [n_qk_nope_head_dim, n_qk_rope_head_dim], dim=0)\n",
    "        q_per_token_nope = torch.matmul(token_embeddings, q_layer_head_nope.T)\n",
    "        q_per_token_pe = torch.matmul(token_embeddings, q_layer_head_pe.T)\n",
    "        \n",
    "        k_layer_head_nope = k_per_token_nope[head]\n",
    "        v_per_token = v_states[head]\n",
    "        \n",
    "        kv_seq_len = v_per_token.shape[0]\n",
    "        cos, sin = cos_cached[:kv_seq_len], sin_cached[:kv_seq_len]\n",
    "        \n",
    "        s, d = q_per_token_pe.shape\n",
    "        q_per_token_pe = q_per_token_pe.view(s, d // 2, 2).transpose(2, 1).reshape(s, d) \n",
    "        q_per_token_pe = (q_per_token_pe * cos) + (rotate_half(q_per_token_pe) * sin)\n",
    "        \n",
    "        query_states = k_per_token_pe.new_empty(q_per_token_pe.shape[0], n_qk_nope_head_dim+n_qk_rope_head_dim)\n",
    "        query_states[:, : n_qk_nope_head_dim] = q_per_token_nope\n",
    "        query_states[:, n_qk_nope_head_dim :] = q_per_token_pe\n",
    "        \n",
    "        key_states = k_per_token_pe.new_empty(k_per_token_pe.shape[0], n_qk_nope_head_dim+n_qk_rope_head_dim)\n",
    "        key_states[:, : n_qk_nope_head_dim] = k_layer_head_nope\n",
    "        key_states[:, n_qk_nope_head_dim :] = k_per_token_pe\n",
    "        \n",
    "        qk_per_token = torch.matmul(query_states, key_states.T)/softmax_scale\n",
    "        \n",
    "        mask = torch.full((len(tokens), len(tokens)), float(\"-inf\"), device=tokens.device)\n",
    "        mask = torch.triu(mask, diagonal=1)\n",
    "        qk_per_token_after_masking = qk_per_token + mask\n",
    "        \n",
    "        qk_per_token_after_masking_after_softmax = torch.nn.functional.softmax(qk_per_token_after_masking, dim=1, dtype=torch.float32).to(torch.bfloat16)\n",
    "\n",
    "        qkv_attention = torch.matmul(qk_per_token_after_masking_after_softmax, v_per_token)\n",
    "        \n",
    "        qkv_attention_store.append(qkv_attention)\n",
    "    \n",
    "    stacked_qkv_attention = torch.cat(qkv_attention_store, dim=-1)\n",
    "    w_layer = model[f\"model.layers.{layer}.self_attn.o_proj.weight\"]\n",
    "    embedding_delta = torch.matmul(stacked_qkv_attention, w_layer.T)\n",
    "    embedding_after_edit = final_embedding + embedding_delta\n",
    "    embedding_after_edit_normalized = rms_norm(embedding_after_edit, model[f\"model.layers.{layer}.post_attention_layernorm.weight\"])\n",
    "    \n",
    "    # shard exports\n",
    "    w1 = model[f\"model.layers.{layer}.mlp.shared_experts.gate_proj.weight\"]\n",
    "    w2 = model[f\"model.layers.{layer}.mlp.shared_experts.down_proj.weight\"]\n",
    "    w3 = model[f\"model.layers.{layer}.mlp.shared_experts.up_proj.weight\"]\n",
    "    output_after_shardexports = torch.matmul(torch.functional.F.silu(torch.matmul(embedding_after_edit_normalized, w1.T)) * torch.matmul(embedding_after_edit_normalized, w3.T), w2.T)\n",
    "\n",
    "    # route exports\n",
    "    # gate\n",
    "    gate_logits = torch.matmul(embedding_after_edit_normalized, model[f'model.layers.{layer}.mlp.gate.weight'].T)\n",
    "    gate_scores = gate_logits.softmax(dim=-1, dtype=torch.float32)\n",
    "    topk_weight, topk_idx = torch.topk(gate_scores, k=n_experts_per_tok, dim=-1, sorted=False)\n",
    "    # route\n",
    "    cnts = topk_idx.new_zeros((topk_idx.shape[0], n_routed_experts))\n",
    "    cnts.scatter_(1, topk_idx, 1)\n",
    "    tokens_per_expert = cnts.sum(dim=0)\n",
    "    idxs = topk_idx.view(-1).argsort()\n",
    "    sorted_tokens = embedding_after_edit_normalized[idxs // topk_idx.shape[1]]\n",
    "    tokens_per_expert = tokens_per_expert.cpu().numpy()\n",
    "    \n",
    "    outputs = []\n",
    "    start_idx = 0\n",
    "    for i, num_tokens in enumerate(tokens_per_expert):\n",
    "        end_idx = start_idx + num_tokens\n",
    "        if num_tokens == 0:\n",
    "            continue\n",
    "        w1 = model[f\"model.layers.{layer}.mlp.experts.{i}.gate_proj.weight\"]\n",
    "        w2 = model[f\"model.layers.{layer}.mlp.experts.{i}.down_proj.weight\"]\n",
    "        w3 = model[f\"model.layers.{layer}.mlp.experts.{i}.up_proj.weight\"]\n",
    "        tokens_for_this_expert = sorted_tokens[start_idx:end_idx]\n",
    "        expert_out = torch.matmul(torch.functional.F.silu(torch.matmul(tokens_for_this_expert, w1.T)) * torch.matmul(tokens_for_this_expert, w3.T), w2.T)\n",
    "        outputs.append(expert_out)\n",
    "        start_idx = end_idx\n",
    "\n",
    "    outs = torch.cat(outputs, dim=0) if len(outputs) else sorted_tokens.new_empty(0)\n",
    "    \n",
    "    new_x = torch.empty_like(outs)\n",
    "    new_x[idxs] = outs\n",
    "    output_after_routeexports = new_x.view(*topk_idx.shape, -1).type(topk_weight.dtype).mul_(topk_weight.unsqueeze(dim=-1)).sum(dim=1).type(new_x.dtype)\n",
    "    final_out = output_after_shardexports + output_after_routeexports\n",
    "    \n",
    "    final_embedding = embedding_after_edit + final_out"
   ]
  },
  {
   "cell_type": "code",
   "execution_count": 591,
   "metadata": {},
   "outputs": [],
   "source": [
    "# k v cache info\n",
    "# print(k_cache[0][0].shape)\n",
    "# print(k_cache[0][-1].shape)\n",
    "# print(len(k_cache))\n",
    "# print(len(k_cache[0]))\n",
    "# print(v_cache[0][0].shape)\n",
    "# print(v_cache[0][-1].shape)\n",
    "# print(len(v_cache))\n",
    "# print(len(v_cache[0]))"
   ]
  },
  {
   "cell_type": "markdown",
   "metadata": {},
   "source": [
    "# we now have the final embedding, the best guess the model could make about the next token\n",
    "the shape of the embedding is the same as regular token embeddings [14x2048] where 14 is the number of tokens and 2048 is the embedding dim"
   ]
  },
  {
   "cell_type": "code",
   "execution_count": 592,
   "metadata": {},
   "outputs": [
    {
     "data": {
      "text/plain": [
       "torch.Size([14, 2048])"
      ]
     },
     "execution_count": 592,
     "metadata": {},
     "output_type": "execute_result"
    }
   ],
   "source": [
    "final_embedding = rms_norm(final_embedding, model[\"model.norm.weight\"])\n",
    "final_embedding.shape"
   ]
  },
  {
   "cell_type": "markdown",
   "metadata": {},
   "source": [
    "# finally, lets decode the embedding into the token value\n",
    "we will use the output decoder to convert the final embedding into a token"
   ]
  },
  {
   "cell_type": "code",
   "execution_count": 593,
   "metadata": {},
   "outputs": [
    {
     "data": {
      "text/plain": [
       "torch.Size([102400, 2048])"
      ]
     },
     "execution_count": 593,
     "metadata": {},
     "output_type": "execute_result"
    }
   ],
   "source": [
    "model[\"lm_head.weight\"].shape"
   ]
  },
  {
   "cell_type": "markdown",
   "metadata": {},
   "source": [
    "# we use the embedding of the last token to predict the next value\n",
    "hopefully in our case: ninety "
   ]
  },
  {
   "cell_type": "code",
   "execution_count": 594,
   "metadata": {},
   "outputs": [
    {
     "data": {
      "text/plain": [
       "torch.Size([102400])"
      ]
     },
     "execution_count": 594,
     "metadata": {},
     "output_type": "execute_result"
    }
   ],
   "source": [
    "logits = torch.matmul(final_embedding[-1], model[\"lm_head.weight\"].T)\n",
    "logits.shape"
   ]
  },
  {
   "cell_type": "markdown",
   "metadata": {},
   "source": [
    "### the model predicted token number 45351 as the next token, is this the token number for giants?\n",
    "IM HYPING YOU UP, this is the last cell of code, hopefully you had fun :)"
   ]
  },
  {
   "cell_type": "code",
   "execution_count": 595,
   "metadata": {},
   "outputs": [
    {
     "data": {
      "text/plain": [
       "tensor(45351)"
      ]
     },
     "execution_count": 595,
     "metadata": {},
     "output_type": "execute_result"
    }
   ],
   "source": [
    "next_token = torch.argmax(logits, dim=-1)\n",
    "next_token"
   ]
  },
  {
   "cell_type": "markdown",
   "metadata": {},
   "source": [
    "### decode output"
   ]
  },
  {
   "cell_type": "code",
   "execution_count": 596,
   "metadata": {},
   "outputs": [
    {
     "data": {
      "text/plain": [
       "' giants'"
      ]
     },
     "execution_count": 596,
     "metadata": {},
     "output_type": "execute_result"
    }
   ],
   "source": [
    "tokenizer.decode([next_token.item()])"
   ]
  },
  {
   "cell_type": "markdown",
   "metadata": {},
   "source": [
    "thank you, i love you :)\n",
    "This is the end. Hopefully you enjoyed reading it!"
   ]
  }
 ],
 "metadata": {
  "kernelspec": {
   "display_name": "Python 3",
   "language": "python",
   "name": "python3"
  },
  "language_info": {
   "codemirror_mode": {
    "name": "ipython",
    "version": 3
   },
   "file_extension": ".py",
   "mimetype": "text/x-python",
   "name": "python",
   "nbconvert_exporter": "python",
   "pygments_lexer": "ipython3",
   "version": "3.10.14"
  }
 },
 "nbformat": 4,
 "nbformat_minor": 2
}
